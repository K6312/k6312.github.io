{
 "cells": [
  {
   "cell_type": "markdown",
   "metadata": {},
   "source": [
    "# Data Preprocessing\n",
    "\n",
    "## Missing Data"
   ]
  },
  {
   "cell_type": "code",
   "execution_count": 3,
   "metadata": {},
   "outputs": [
    {
     "name": "stdout",
     "output_type": "stream",
     "text": [
      "[[ 0 20 88 97 45 18  7 25 32  6]\n",
      " [54  0 63 69 16 33  4 85 26 68]\n",
      " [71 99  0 63 98 75 30  8 12 59]\n",
      " [41 42  7  0 34 23 30 48 47 98]\n",
      " [49 43  3 69  0  6 38 17 76 62]\n",
      " [33 83 14 40 61  0 52 40 80 80]\n",
      " [82 13 81 34 42 82  0 69 49 55]\n",
      " [45 41 23  4 38 81 55  0  7 91]\n",
      " [86 71  9 39  8 91 92 95  0  9]\n",
      " [44 50 43  2 39 94 37 54 78  0]]\n"
     ]
    }
   ],
   "source": [
    "import pandas as pd\n",
    "import numpy as np\n",
    "df = np.random.randint(1,100, 100).reshape(10, -1)\n",
    "df\n",
    "for i in range(df.shape[0]):\n",
    "    df[i,i] = 0\n",
    "print(df)"
   ]
  },
  {
   "cell_type": "code",
   "execution_count": 7,
   "metadata": {
    "scrolled": true
   },
   "outputs": [
    {
     "name": "stdout",
     "output_type": "stream",
     "text": [
      "       0   1      2     3     4      5     6      7   8  9\n",
      "0    NaN   0    1.0   2.0   3.0    4.0   5.0  6.000   7  8\n",
      "1    0.0   6  148.0  72.0  35.0    NaN  33.6  0.627  50  1\n",
      "2    1.0   1   85.0  66.0  29.0    NaN  26.6  0.351  31  0\n",
      "3    2.0   8  183.0  64.0   NaN    NaN  23.3  0.672  32  1\n",
      "4    3.0   1   89.0  66.0  23.0   94.0  28.1  0.167  21  0\n",
      "5    4.0   0  137.0  40.0  35.0  168.0  43.1  2.288  33  1\n",
      "6    5.0   5  116.0  74.0   NaN    NaN  25.6  0.201  30  0\n",
      "7    6.0   3   78.0  50.0  32.0   88.0  31.0  0.248  26  1\n",
      "8    7.0  10  115.0   NaN   NaN    NaN  35.3  0.134  29  0\n",
      "9    8.0   2  197.0  70.0  45.0  543.0  30.5  0.158  53  1\n",
      "10   9.0   8  125.0  96.0   NaN    NaN   NaN  0.232  54  1\n",
      "11  10.0   4  110.0  92.0   NaN    NaN  37.6  0.191  30  0\n",
      "12  11.0  10  168.0  74.0   NaN    NaN  38.0  0.537  34  1\n",
      "13  12.0  10  139.0  80.0   NaN    NaN  27.1  1.441  57  0\n",
      "14  13.0   1  189.0  60.0  23.0  846.0  30.1  0.398  59  1\n",
      "15  14.0   5  166.0  72.0  19.0  175.0  25.8  0.587  51  1\n",
      "16  15.0   7  100.0   NaN   NaN    NaN  30.0  0.484  32  1\n",
      "17  16.0   0  118.0  84.0  47.0  230.0  45.8  0.551  31  1\n",
      "18  17.0   7  107.0  74.0   NaN    NaN  29.6  0.254  31  1\n",
      "19  18.0   1  103.0  30.0  38.0   83.0  43.3  0.183  33  0\n",
      "0      1\n",
      "1      0\n",
      "2      5\n",
      "3     35\n",
      "4    227\n",
      "5    374\n",
      "6     11\n",
      "7      0\n",
      "8      0\n",
      "9      0\n",
      "dtype: int64\n"
     ]
    }
   ],
   "source": [
    "from pandas import read_csv\n",
    "import numpy as np\n",
    "dataset = read_csv('C:/Users/chenz1/Desktop/K6312/data/pima-indians-diabetes.csv', header=None)\n",
    "#print(dataset.describe())\n",
    "print(dataset.head(20))\n",
    "#print(dataset.isnull())\n",
    "print(dataset.isnull().sum())"
   ]
  },
  {
   "cell_type": "code",
   "execution_count": 44,
   "metadata": {},
   "outputs": [
    {
     "name": "stdout",
     "output_type": "stream",
     "text": [
      "1    112\n",
      "2      0\n",
      "3      0\n",
      "4      0\n",
      "5      0\n",
      "dtype: int64\n",
      "       0   1      2     3     4      5     6      7   8  9\n",
      "0    0.0   0    1.0   2.0   3.0    4.0   5.0  6.000   7  8\n",
      "1    0.0   6  148.0  72.0  35.0    0.0  33.6  0.627  50  1\n",
      "2    1.0   1   85.0  66.0  29.0    0.0  26.6  0.351  31  0\n",
      "3    2.0   8  183.0  64.0   0.0    0.0  23.3  0.672  32  1\n",
      "4    3.0   1   89.0  66.0  23.0   94.0  28.1  0.167  21  0\n",
      "5    4.0   0  137.0  40.0  35.0  168.0  43.1  2.288  33  1\n",
      "6    5.0   5  116.0  74.0   0.0    0.0  25.6  0.201  30  0\n",
      "7    6.0   3   78.0  50.0  32.0   88.0  31.0  0.248  26  1\n",
      "8    7.0  10  115.0   0.0   0.0    0.0  35.3  0.134  29  0\n",
      "9    8.0   2  197.0  70.0  45.0  543.0  30.5  0.158  53  1\n",
      "10   9.0   8  125.0  96.0   0.0    0.0   0.0  0.232  54  1\n",
      "11  10.0   4  110.0  92.0   0.0    0.0  37.6  0.191  30  0\n",
      "12  11.0  10  168.0  74.0   0.0    0.0  38.0  0.537  34  1\n",
      "13  12.0  10  139.0  80.0   0.0    0.0  27.1  1.441  57  0\n",
      "14  13.0   1  189.0  60.0  23.0  846.0  30.1  0.398  59  1\n",
      "15  14.0   5  166.0  72.0  19.0  175.0  25.8  0.587  51  1\n",
      "16  15.0   7  100.0   0.0   0.0    0.0  30.0  0.484  32  1\n",
      "17  16.0   0  118.0  84.0  47.0  230.0  45.8  0.551  31  1\n",
      "18  17.0   7  107.0  74.0   0.0    0.0  29.6  0.254  31  1\n",
      "19  18.0   1  103.0  30.0  38.0   83.0  43.3  0.183  33  0\n"
     ]
    }
   ],
   "source": [
    "#print((dataset[[1,2,3,4,5]] == 0).sum())\n",
    "dataset[[0,2,3,4,5,6]] = dataset[[0,2,3,4,5,6]].replace(np.NaN,0)\n",
    "print(dataset.head(20))"
   ]
  },
  {
   "cell_type": "code",
   "execution_count": 45,
   "metadata": {},
   "outputs": [
    {
     "name": "stdout",
     "output_type": "stream",
     "text": [
      "       0   1      2     3     4      5     6      7   8  9\n",
      "0    NaN   0    1.0   2.0   3.0    4.0   5.0  6.000   7  8\n",
      "1    0.0   6  148.0  72.0  35.0    NaN  33.6  0.627  50  1\n",
      "2    1.0   1   85.0  66.0  29.0    NaN  26.6  0.351  31  0\n",
      "3    2.0   8  183.0  64.0   NaN    NaN  23.3  0.672  32  1\n",
      "4    3.0   1   89.0  66.0  23.0   94.0  28.1  0.167  21  0\n",
      "5    4.0   0  137.0  40.0  35.0  168.0  43.1  2.288  33  1\n",
      "6    5.0   5  116.0  74.0   NaN    NaN  25.6  0.201  30  0\n",
      "7    6.0   3   78.0  50.0  32.0   88.0  31.0  0.248  26  1\n",
      "8    7.0  10  115.0   NaN   NaN    NaN  35.3  0.134  29  0\n",
      "9    8.0   2  197.0  70.0  45.0  543.0  30.5  0.158  53  1\n",
      "10   9.0   8  125.0  96.0   NaN    NaN   NaN  0.232  54  1\n",
      "11  10.0   4  110.0  92.0   NaN    NaN  37.6  0.191  30  0\n",
      "12  11.0  10  168.0  74.0   NaN    NaN  38.0  0.537  34  1\n",
      "13  12.0  10  139.0  80.0   NaN    NaN  27.1  1.441  57  0\n",
      "14  13.0   1  189.0  60.0  23.0  846.0  30.1  0.398  59  1\n",
      "15  14.0   5  166.0  72.0  19.0  175.0  25.8  0.587  51  1\n",
      "16  15.0   7  100.0   NaN   NaN    NaN  30.0  0.484  32  1\n",
      "17  16.0   0  118.0  84.0  47.0  230.0  45.8  0.551  31  1\n",
      "18  17.0   7  107.0  74.0   NaN    NaN  29.6  0.254  31  1\n",
      "19  18.0   1  103.0  30.0  38.0   83.0  43.3  0.183  33  0\n",
      "(769, 10)\n",
      "(392, 10)\n"
     ]
    }
   ],
   "source": [
    "dataset = read_csv('../data/pima-indians-diabetes.csv', header=None)\n",
    "print(dataset.head(20))\n",
    "print(dataset.shape)\n",
    "# drop rows with missing values\n",
    "dataset.dropna(inplace=True)\n",
    "# summarize the number of rows and columns in the dataset\n",
    "print(dataset.shape)"
   ]
  },
  {
   "cell_type": "code",
   "execution_count": 46,
   "metadata": {},
   "outputs": [
    {
     "name": "stdout",
     "output_type": "stream",
     "text": [
      "0    0\n",
      "1    0\n",
      "2    0\n",
      "3    0\n",
      "4    0\n",
      "5    0\n",
      "6    0\n",
      "7    0\n",
      "8    0\n",
      "9    0\n",
      "dtype: int64\n",
      "        0   1      2          3          4           5         6      7   8  9\n",
      "0   383.5   0    1.0   2.000000   3.000000    4.000000   5.00000  6.000   7  8\n",
      "1     0.0   6  148.0  72.000000  35.000000  155.164557  33.60000  0.627  50  1\n",
      "2     1.0   1   85.0  66.000000  29.000000  155.164557  26.60000  0.351  31  0\n",
      "3     2.0   8  183.0  64.000000  29.105166  155.164557  23.30000  0.672  32  1\n",
      "4     3.0   1   89.0  66.000000  23.000000   94.000000  28.10000  0.167  21  0\n",
      "5     4.0   0  137.0  40.000000  35.000000  168.000000  43.10000  2.288  33  1\n",
      "6     5.0   5  116.0  74.000000  29.105166  155.164557  25.60000  0.201  30  0\n",
      "7     6.0   3   78.0  50.000000  32.000000   88.000000  31.00000  0.248  26  1\n",
      "8     7.0  10  115.0  72.309264  29.105166  155.164557  35.30000  0.134  29  0\n",
      "9     8.0   2  197.0  70.000000  45.000000  543.000000  30.50000  0.158  53  1\n",
      "10    9.0   8  125.0  96.000000  29.105166  155.164557  32.42124  0.232  54  1\n",
      "11   10.0   4  110.0  92.000000  29.105166  155.164557  37.60000  0.191  30  0\n",
      "12   11.0  10  168.0  74.000000  29.105166  155.164557  38.00000  0.537  34  1\n",
      "13   12.0  10  139.0  80.000000  29.105166  155.164557  27.10000  1.441  57  0\n",
      "14   13.0   1  189.0  60.000000  23.000000  846.000000  30.10000  0.398  59  1\n",
      "15   14.0   5  166.0  72.000000  19.000000  175.000000  25.80000  0.587  51  1\n",
      "16   15.0   7  100.0  72.309264  29.105166  155.164557  30.00000  0.484  32  1\n",
      "17   16.0   0  118.0  84.000000  47.000000  230.000000  45.80000  0.551  31  1\n",
      "18   17.0   7  107.0  74.000000  29.105166  155.164557  29.60000  0.254  31  1\n",
      "19   18.0   1  103.0  30.000000  38.000000   83.000000  43.30000  0.183  33  0\n"
     ]
    }
   ],
   "source": [
    "dataset = read_csv('../data/pima-indians-diabetes.csv', header=None)\n",
    "# fill missing values with mean column values\n",
    "dataset.fillna(dataset.mean(), inplace=True)\n",
    "# count the number of NaN values in each column\n",
    "print(dataset.isnull().sum())\n",
    "print(dataset.head(20))"
   ]
  },
  {
   "cell_type": "markdown",
   "metadata": {},
   "source": [
    "## Normalization\n",
    "\n",
    "### MinMax normalization: $z = \\frac{x-min(x)}{max(x)-min(x)}$\n",
    "\n",
    "### Standard normalization: $z =\\frac{x-mean(x)}{std(x)} $"
   ]
  },
  {
   "cell_type": "code",
   "execution_count": 50,
   "metadata": {},
   "outputs": [
    {
     "name": "stdout",
     "output_type": "stream",
     "text": [
      "(50,)\n",
      "[[ 1.19529031  4.78566774]\n",
      " [ 0.25399162  6.31630097]\n",
      " [ 1.95364154  5.35025358]\n",
      " [ 1.06007681  4.13954102]\n",
      " [-0.66122424  4.8766278 ]\n",
      " [ 0.41287976  4.43244069]\n",
      " [-1.29599021  7.04342074]\n",
      " [ 0.95052167  2.84615782]\n",
      " [-1.10542014  5.62036065]\n",
      " [-0.74845804  6.5113082 ]\n",
      " [ 0.09232313  4.716382  ]\n",
      " [ 0.64777046  5.11087402]\n",
      " [-0.73539098  4.77887618]\n",
      " [-0.16007202  3.21667743]\n",
      " [-0.7767388   6.51368543]\n",
      " [-1.12644473  5.79605182]\n",
      " [ 0.60709931  5.92380151]\n",
      " [ 0.29190527  5.84756335]\n",
      " [ 0.0957042   5.11311812]\n",
      " [-0.85706379  6.88896527]\n",
      " [-0.42256011  5.12501954]\n",
      " [ 1.28113788  4.77680265]\n",
      " [-0.66802067  4.78630688]\n",
      " [-0.8833066   3.84514771]\n",
      " [-0.47472007  4.91449414]\n",
      " [-0.43838268  7.41734941]\n",
      " [ 0.88157191  5.24498346]\n",
      " [ 0.21575232  6.68611133]\n",
      " [ 0.19365995  2.7281341 ]\n",
      " [ 1.22021763  5.51248061]\n",
      " [-0.05745072  4.10099469]\n",
      " [ 0.01962892  3.24534629]\n",
      " [-1.94201654  6.23472151]\n",
      " [ 0.68787831  4.88621169]\n",
      " [ 2.03923938  5.87995949]\n",
      " [-1.9404444   3.90991785]\n",
      " [-0.9276209   5.68425995]\n",
      " [ 0.6856511   6.21717024]\n",
      " [-0.7306075   6.02041851]\n",
      " [ 0.50607556  4.51986366]\n",
      " [ 0.45026067  6.46875893]\n",
      " [-0.9586367   3.90206802]\n",
      " [ 1.28403629  5.40252761]\n",
      " [-1.13591827  5.82782344]\n",
      " [ 1.93242137  6.1403837 ]\n",
      " [ 0.98945455  5.4743949 ]\n",
      " [-0.10557159  4.40183172]\n",
      " [-1.29702095  4.05384459]\n",
      " [ 1.331682    5.14944678]\n",
      " [ 0.74775359  7.09726788]]\n",
      "(50, 2)\n"
     ]
    },
    {
     "data": {
      "image/png": "[encoded data removed]",
      "text/plain": [
       "<Figure size 432x288 with 1 Axes>"
      ]
     },
     "metadata": {
      "needs_background": "light"
     },
     "output_type": "display_data"
    },
    {
     "data": {
      "image/png": "[encoded data removed]",
      "text/plain": [
       "<Figure size 432x288 with 1 Axes>"
      ]
     },
     "metadata": {
      "needs_background": "light"
     },
     "output_type": "display_data"
    },
    {
     "data": {
      "image/png": "[encoded data removed]",
      "text/plain": [
       "<Figure size 432x288 with 1 Axes>"
      ]
     },
     "metadata": {
      "needs_background": "light"
     },
     "output_type": "display_data"
    }
   ],
   "source": [
    "from sklearn.preprocessing import StandardScaler, MinMaxScaler\n",
    "\n",
    "x = np.random.normal(0, 1, 50)\n",
    "y = np.random.normal(5, 1, 50)\n",
    "print(x.shape)\n",
    "xy = np.vstack((x,y)).T\n",
    "print(xy)\n",
    "print(xy.shape)\n",
    "plt.figure()\n",
    "plt.plot(xy[:,0],'or')\n",
    "plt.plot(xy[:,1],'*b')\n",
    "plt.show()\n",
    "\n",
    "xy_m = MinMaxScaler().fit_transform(xy)\n",
    "\n",
    "plt.figure()\n",
    "plt.plot(xy_m[:,0],'or')\n",
    "plt.plot(xy_m[:,1],'*b')\n",
    "plt.show()\n",
    "\n",
    "xy_s = StandardScaler().fit_transform(xy)\n",
    "\n",
    "plt.figure()\n",
    "plt.plot(xy_s[:,0],'or')\n",
    "plt.plot(xy_s[:,1],'*b')\n",
    "plt.show()"
   ]
  },
  {
   "cell_type": "code",
   "execution_count": 65,
   "metadata": {},
   "outputs": [],
   "source": [
    "from sklearn.datasets import load_boston\n",
    "boston = load_boston()\n",
    "#print(boston.DESCR)"
   ]
  },
  {
   "cell_type": "code",
   "execution_count": 52,
   "metadata": {},
   "outputs": [
    {
     "data": {
      "image/png": "[encoded data removed]",
      "text/plain": [
       "<Figure size 432x288 with 1 Axes>"
      ]
     },
     "metadata": {
      "needs_background": "light"
     },
     "output_type": "display_data"
    },
    {
     "data": {
      "image/png": "[encoded data removed]",
      "text/plain": [
       "<Figure size 432x288 with 1 Axes>"
      ]
     },
     "metadata": {
      "needs_background": "light"
     },
     "output_type": "display_data"
    }
   ],
   "source": [
    "from sklearn.preprocessing import StandardScaler, MinMaxScaler\n",
    "X, y = boston.data, boston.target\n",
    "plt.figure()\n",
    "plt.boxplot(X)\n",
    "plt.xticks(np.arange(1, X.shape[1] + 1), boston.feature_names, rotation=30, ha=\"right\")\n",
    "plt.ylabel(\"MEDV\")\n",
    "plt.show()\n",
    "\n",
    "X_m = MinMaxScaler().fit_transform(X)\n",
    "plt.figure()\n",
    "plt.boxplot(X_m)\n",
    "plt.xticks(np.arange(1, X_m.shape[1] + 1), boston.feature_names, rotation=30, ha=\"right\")\n",
    "plt.ylabel(\"MEDV\")\n",
    "plt.show()"
   ]
  },
  {
   "cell_type": "markdown",
   "metadata": {},
   "source": [
    "# Lab: Linear Regression"
   ]
  },
  {
   "cell_type": "markdown",
   "metadata": {},
   "source": [
    "## Libraries"
   ]
  },
  {
   "cell_type": "markdown",
   "metadata": {},
   "source": [
    "### In Python, module can be imported by a command similar to 'import numpy as np'. It is a good practice to maintain a section at the beginning of the notebook to import all necessary modules."
   ]
  },
  {
   "cell_type": "code",
   "execution_count": 53,
   "metadata": {},
   "outputs": [],
   "source": [
    "import numpy as np\n",
    "import matplotlib.pyplot as plt\n",
    "import pandas as pd \n",
    "import math\n",
    "from sklearn import datasets, linear_model"
   ]
  },
  {
   "cell_type": "markdown",
   "metadata": {},
   "source": [
    "The Boston data set records medv (median house value) for 506 neighborhoods around Boston. We will seek to predict\n",
    "medv using 13 predictors such as rm (average number of rooms per house), age (average age of houses), and lstat (percent of households with low\n",
    "socioeconomic status)."
   ]
  },
  {
   "cell_type": "code",
   "execution_count": 54,
   "metadata": {},
   "outputs": [],
   "source": [
    "Boston = pd.read_csv('../data/Boston.csv', header=0) # the first line of data is header"
   ]
  },
  {
   "cell_type": "markdown",
   "metadata": {},
   "source": [
    "## Simple Linear Regression"
   ]
  },
  {
   "cell_type": "code",
   "execution_count": 55,
   "metadata": {},
   "outputs": [
    {
     "data": {
      "text/plain": [
       "pandas.core.frame.DataFrame"
      ]
     },
     "execution_count": 55,
     "metadata": {},
     "output_type": "execute_result"
    }
   ],
   "source": [
    "type(Boston)"
   ]
  },
  {
   "cell_type": "code",
   "execution_count": 57,
   "metadata": {},
   "outputs": [
    {
     "data": {
      "text/html": [
       "<div>\n",
       "<style scoped>\n",
       "    .dataframe tbody tr th:only-of-type {\n",
       "        vertical-align: middle;\n",
       "    }\n",
       "\n",
       "    .dataframe tbody tr th {\n",
       "        vertical-align: top;\n",
       "    }\n",
       "\n",
       "    .dataframe thead th {\n",
       "        text-align: right;\n",
       "    }\n",
       "</style>\n",
       "<table border=\"1\" class=\"dataframe\">\n",
       "  <thead>\n",
       "    <tr style=\"text-align: right;\">\n",
       "      <th></th>\n",
       "      <th>crim</th>\n",
       "      <th>zn</th>\n",
       "      <th>indus</th>\n",
       "      <th>chas</th>\n",
       "      <th>nox</th>\n",
       "      <th>rm</th>\n",
       "      <th>age</th>\n",
       "      <th>dis</th>\n",
       "      <th>rad</th>\n",
       "      <th>tax</th>\n",
       "      <th>ptratio</th>\n",
       "      <th>black</th>\n",
       "      <th>lstat</th>\n",
       "      <th>medv</th>\n",
       "    </tr>\n",
       "  </thead>\n",
       "  <tbody>\n",
       "    <tr>\n",
       "      <th>0</th>\n",
       "      <td>0.00632</td>\n",
       "      <td>18.0</td>\n",
       "      <td>2.31</td>\n",
       "      <td>0</td>\n",
       "      <td>0.538</td>\n",
       "      <td>6.575</td>\n",
       "      <td>65.2</td>\n",
       "      <td>4.0900</td>\n",
       "      <td>1</td>\n",
       "      <td>296</td>\n",
       "      <td>15.3</td>\n",
       "      <td>396.90</td>\n",
       "      <td>4.98</td>\n",
       "      <td>24.0</td>\n",
       "    </tr>\n",
       "    <tr>\n",
       "      <th>1</th>\n",
       "      <td>0.02731</td>\n",
       "      <td>0.0</td>\n",
       "      <td>7.07</td>\n",
       "      <td>0</td>\n",
       "      <td>0.469</td>\n",
       "      <td>6.421</td>\n",
       "      <td>78.9</td>\n",
       "      <td>4.9671</td>\n",
       "      <td>2</td>\n",
       "      <td>242</td>\n",
       "      <td>17.8</td>\n",
       "      <td>396.90</td>\n",
       "      <td>9.14</td>\n",
       "      <td>21.6</td>\n",
       "    </tr>\n",
       "    <tr>\n",
       "      <th>2</th>\n",
       "      <td>0.02729</td>\n",
       "      <td>0.0</td>\n",
       "      <td>7.07</td>\n",
       "      <td>0</td>\n",
       "      <td>0.469</td>\n",
       "      <td>7.185</td>\n",
       "      <td>61.1</td>\n",
       "      <td>4.9671</td>\n",
       "      <td>2</td>\n",
       "      <td>242</td>\n",
       "      <td>17.8</td>\n",
       "      <td>392.83</td>\n",
       "      <td>4.03</td>\n",
       "      <td>34.7</td>\n",
       "    </tr>\n",
       "    <tr>\n",
       "      <th>3</th>\n",
       "      <td>0.03237</td>\n",
       "      <td>0.0</td>\n",
       "      <td>2.18</td>\n",
       "      <td>0</td>\n",
       "      <td>0.458</td>\n",
       "      <td>6.998</td>\n",
       "      <td>45.8</td>\n",
       "      <td>6.0622</td>\n",
       "      <td>3</td>\n",
       "      <td>222</td>\n",
       "      <td>18.7</td>\n",
       "      <td>394.63</td>\n",
       "      <td>2.94</td>\n",
       "      <td>33.4</td>\n",
       "    </tr>\n",
       "    <tr>\n",
       "      <th>4</th>\n",
       "      <td>0.06905</td>\n",
       "      <td>0.0</td>\n",
       "      <td>2.18</td>\n",
       "      <td>0</td>\n",
       "      <td>0.458</td>\n",
       "      <td>7.147</td>\n",
       "      <td>54.2</td>\n",
       "      <td>6.0622</td>\n",
       "      <td>3</td>\n",
       "      <td>222</td>\n",
       "      <td>18.7</td>\n",
       "      <td>396.90</td>\n",
       "      <td>5.33</td>\n",
       "      <td>36.2</td>\n",
       "    </tr>\n",
       "  </tbody>\n",
       "</table>\n",
       "</div>"
      ],
      "text/plain": [
       "      crim    zn  indus  chas    nox     rm   age     dis  rad  tax  ptratio  \\\n",
       "0  0.00632  18.0   2.31     0  0.538  6.575  65.2  4.0900    1  296     15.3   \n",
       "1  0.02731   0.0   7.07     0  0.469  6.421  78.9  4.9671    2  242     17.8   \n",
       "2  0.02729   0.0   7.07     0  0.469  7.185  61.1  4.9671    2  242     17.8   \n",
       "3  0.03237   0.0   2.18     0  0.458  6.998  45.8  6.0622    3  222     18.7   \n",
       "4  0.06905   0.0   2.18     0  0.458  7.147  54.2  6.0622    3  222     18.7   \n",
       "\n",
       "    black  lstat  medv  \n",
       "0  396.90   4.98  24.0  \n",
       "1  396.90   9.14  21.6  \n",
       "2  392.83   4.03  34.7  \n",
       "3  394.63   2.94  33.4  \n",
       "4  396.90   5.33  36.2  "
      ]
     },
     "execution_count": 57,
     "metadata": {},
     "output_type": "execute_result"
    }
   ],
   "source": [
    "Boston.head()"
   ]
  },
  {
   "cell_type": "code",
   "execution_count": 58,
   "metadata": {},
   "outputs": [
    {
     "data": {
      "text/plain": [
       "crim       0\n",
       "zn         0\n",
       "indus      0\n",
       "chas       0\n",
       "nox        0\n",
       "rm         0\n",
       "age        0\n",
       "dis        0\n",
       "rad        0\n",
       "tax        0\n",
       "ptratio    0\n",
       "black      0\n",
       "lstat      0\n",
       "medv       0\n",
       "dtype: int64"
      ]
     },
     "execution_count": 58,
     "metadata": {},
     "output_type": "execute_result"
    }
   ],
   "source": [
    "Boston.isnull().sum()"
   ]
  },
  {
   "cell_type": "code",
   "execution_count": 59,
   "metadata": {},
   "outputs": [
    {
     "data": {
      "text/plain": [
       "(506, 14)"
      ]
     },
     "execution_count": 59,
     "metadata": {},
     "output_type": "execute_result"
    }
   ],
   "source": [
    "Boston.shape"
   ]
  },
  {
   "cell_type": "code",
   "execution_count": 60,
   "metadata": {},
   "outputs": [
    {
     "data": {
      "text/html": [
       "<div>\n",
       "<style scoped>\n",
       "    .dataframe tbody tr th:only-of-type {\n",
       "        vertical-align: middle;\n",
       "    }\n",
       "\n",
       "    .dataframe tbody tr th {\n",
       "        vertical-align: top;\n",
       "    }\n",
       "\n",
       "    .dataframe thead th {\n",
       "        text-align: right;\n",
       "    }\n",
       "</style>\n",
       "<table border=\"1\" class=\"dataframe\">\n",
       "  <thead>\n",
       "    <tr style=\"text-align: right;\">\n",
       "      <th></th>\n",
       "      <th>crim</th>\n",
       "      <th>zn</th>\n",
       "      <th>indus</th>\n",
       "      <th>chas</th>\n",
       "      <th>nox</th>\n",
       "      <th>rm</th>\n",
       "      <th>age</th>\n",
       "      <th>dis</th>\n",
       "      <th>rad</th>\n",
       "      <th>tax</th>\n",
       "      <th>ptratio</th>\n",
       "      <th>black</th>\n",
       "      <th>lstat</th>\n",
       "      <th>medv</th>\n",
       "    </tr>\n",
       "  </thead>\n",
       "  <tbody>\n",
       "    <tr>\n",
       "      <th>count</th>\n",
       "      <td>506.000000</td>\n",
       "      <td>506.000000</td>\n",
       "      <td>506.000000</td>\n",
       "      <td>506.000000</td>\n",
       "      <td>506.000000</td>\n",
       "      <td>506.000000</td>\n",
       "      <td>506.000000</td>\n",
       "      <td>506.000000</td>\n",
       "      <td>506.000000</td>\n",
       "      <td>506.000000</td>\n",
       "      <td>506.000000</td>\n",
       "      <td>506.000000</td>\n",
       "      <td>506.000000</td>\n",
       "      <td>506.000000</td>\n",
       "    </tr>\n",
       "    <tr>\n",
       "      <th>mean</th>\n",
       "      <td>3.613524</td>\n",
       "      <td>11.363636</td>\n",
       "      <td>11.136779</td>\n",
       "      <td>0.069170</td>\n",
       "      <td>0.554695</td>\n",
       "      <td>6.284634</td>\n",
       "      <td>68.574901</td>\n",
       "      <td>3.795043</td>\n",
       "      <td>9.549407</td>\n",
       "      <td>408.237154</td>\n",
       "      <td>18.455534</td>\n",
       "      <td>356.674032</td>\n",
       "      <td>12.653063</td>\n",
       "      <td>22.532806</td>\n",
       "    </tr>\n",
       "    <tr>\n",
       "      <th>std</th>\n",
       "      <td>8.601545</td>\n",
       "      <td>23.322453</td>\n",
       "      <td>6.860353</td>\n",
       "      <td>0.253994</td>\n",
       "      <td>0.115878</td>\n",
       "      <td>0.702617</td>\n",
       "      <td>28.148861</td>\n",
       "      <td>2.105710</td>\n",
       "      <td>8.707259</td>\n",
       "      <td>168.537116</td>\n",
       "      <td>2.164946</td>\n",
       "      <td>91.294864</td>\n",
       "      <td>7.141062</td>\n",
       "      <td>9.197104</td>\n",
       "    </tr>\n",
       "    <tr>\n",
       "      <th>min</th>\n",
       "      <td>0.006320</td>\n",
       "      <td>0.000000</td>\n",
       "      <td>0.460000</td>\n",
       "      <td>0.000000</td>\n",
       "      <td>0.385000</td>\n",
       "      <td>3.561000</td>\n",
       "      <td>2.900000</td>\n",
       "      <td>1.129600</td>\n",
       "      <td>1.000000</td>\n",
       "      <td>187.000000</td>\n",
       "      <td>12.600000</td>\n",
       "      <td>0.320000</td>\n",
       "      <td>1.730000</td>\n",
       "      <td>5.000000</td>\n",
       "    </tr>\n",
       "    <tr>\n",
       "      <th>25%</th>\n",
       "      <td>0.082045</td>\n",
       "      <td>0.000000</td>\n",
       "      <td>5.190000</td>\n",
       "      <td>0.000000</td>\n",
       "      <td>0.449000</td>\n",
       "      <td>5.885500</td>\n",
       "      <td>45.025000</td>\n",
       "      <td>2.100175</td>\n",
       "      <td>4.000000</td>\n",
       "      <td>279.000000</td>\n",
       "      <td>17.400000</td>\n",
       "      <td>375.377500</td>\n",
       "      <td>6.950000</td>\n",
       "      <td>17.025000</td>\n",
       "    </tr>\n",
       "    <tr>\n",
       "      <th>50%</th>\n",
       "      <td>0.256510</td>\n",
       "      <td>0.000000</td>\n",
       "      <td>9.690000</td>\n",
       "      <td>0.000000</td>\n",
       "      <td>0.538000</td>\n",
       "      <td>6.208500</td>\n",
       "      <td>77.500000</td>\n",
       "      <td>3.207450</td>\n",
       "      <td>5.000000</td>\n",
       "      <td>330.000000</td>\n",
       "      <td>19.050000</td>\n",
       "      <td>391.440000</td>\n",
       "      <td>11.360000</td>\n",
       "      <td>21.200000</td>\n",
       "    </tr>\n",
       "    <tr>\n",
       "      <th>75%</th>\n",
       "      <td>3.677082</td>\n",
       "      <td>12.500000</td>\n",
       "      <td>18.100000</td>\n",
       "      <td>0.000000</td>\n",
       "      <td>0.624000</td>\n",
       "      <td>6.623500</td>\n",
       "      <td>94.075000</td>\n",
       "      <td>5.188425</td>\n",
       "      <td>24.000000</td>\n",
       "      <td>666.000000</td>\n",
       "      <td>20.200000</td>\n",
       "      <td>396.225000</td>\n",
       "      <td>16.955000</td>\n",
       "      <td>25.000000</td>\n",
       "    </tr>\n",
       "    <tr>\n",
       "      <th>max</th>\n",
       "      <td>88.976200</td>\n",
       "      <td>100.000000</td>\n",
       "      <td>27.740000</td>\n",
       "      <td>1.000000</td>\n",
       "      <td>0.871000</td>\n",
       "      <td>8.780000</td>\n",
       "      <td>100.000000</td>\n",
       "      <td>12.126500</td>\n",
       "      <td>24.000000</td>\n",
       "      <td>711.000000</td>\n",
       "      <td>22.000000</td>\n",
       "      <td>396.900000</td>\n",
       "      <td>37.970000</td>\n",
       "      <td>50.000000</td>\n",
       "    </tr>\n",
       "  </tbody>\n",
       "</table>\n",
       "</div>"
      ],
      "text/plain": [
       "             crim          zn       indus        chas         nox          rm  \\\n",
       "count  506.000000  506.000000  506.000000  506.000000  506.000000  506.000000   \n",
       "mean     3.613524   11.363636   11.136779    0.069170    0.554695    6.284634   \n",
       "std      8.601545   23.322453    6.860353    0.253994    0.115878    0.702617   \n",
       "min      0.006320    0.000000    0.460000    0.000000    0.385000    3.561000   \n",
       "25%      0.082045    0.000000    5.190000    0.000000    0.449000    5.885500   \n",
       "50%      0.256510    0.000000    9.690000    0.000000    0.538000    6.208500   \n",
       "75%      3.677082   12.500000   18.100000    0.000000    0.624000    6.623500   \n",
       "max     88.976200  100.000000   27.740000    1.000000    0.871000    8.780000   \n",
       "\n",
       "              age         dis         rad         tax     ptratio       black  \\\n",
       "count  506.000000  506.000000  506.000000  506.000000  506.000000  506.000000   \n",
       "mean    68.574901    3.795043    9.549407  408.237154   18.455534  356.674032   \n",
       "std     28.148861    2.105710    8.707259  168.537116    2.164946   91.294864   \n",
       "min      2.900000    1.129600    1.000000  187.000000   12.600000    0.320000   \n",
       "25%     45.025000    2.100175    4.000000  279.000000   17.400000  375.377500   \n",
       "50%     77.500000    3.207450    5.000000  330.000000   19.050000  391.440000   \n",
       "75%     94.075000    5.188425   24.000000  666.000000   20.200000  396.225000   \n",
       "max    100.000000   12.126500   24.000000  711.000000   22.000000  396.900000   \n",
       "\n",
       "            lstat        medv  \n",
       "count  506.000000  506.000000  \n",
       "mean    12.653063   22.532806  \n",
       "std      7.141062    9.197104  \n",
       "min      1.730000    5.000000  \n",
       "25%      6.950000   17.025000  \n",
       "50%     11.360000   21.200000  \n",
       "75%     16.955000   25.000000  \n",
       "max     37.970000   50.000000  "
      ]
     },
     "execution_count": 60,
     "metadata": {},
     "output_type": "execute_result"
    }
   ],
   "source": [
    "Boston.describe()"
   ]
  },
  {
   "cell_type": "code",
   "execution_count": 61,
   "metadata": {
    "scrolled": true
   },
   "outputs": [
    {
     "data": {
      "image/png": "[encoded data removed]",
      "text/plain": [
       "<Figure size 432x288 with 2 Axes>"
      ]
     },
     "metadata": {
      "needs_background": "light"
     },
     "output_type": "display_data"
    }
   ],
   "source": [
    "Boston.hist(column = ['lstat', 'medv'])\n",
    "plt.show()"
   ]
  },
  {
   "cell_type": "code",
   "execution_count": 62,
   "metadata": {},
   "outputs": [
    {
     "name": "stdout",
     "output_type": "stream",
     "text": [
      "Coefficients: [-0.95004935]\n",
      "Intercept: 34.55384087938311\n"
     ]
    }
   ],
   "source": [
    "from sklearn import linear_model\n",
    "\n",
    "x = Boston[['lstat']].values\n",
    "y = Boston['medv'].values\n",
    "\n",
    "regr = linear_model.LinearRegression()\n",
    "regr.fit(x,y)\n",
    "#regr.predict(x_0)\n",
    "\n",
    "print('Coefficients:', regr.coef_)\n",
    "print('Intercept:', regr.intercept_)"
   ]
  },
  {
   "cell_type": "code",
   "execution_count": 66,
   "metadata": {},
   "outputs": [
    {
     "name": "stdout",
     "output_type": "stream",
     "text": [
      "Total sum of squares: 42716.29541501977\n",
      "Residual sum of squares: 19472.381418326437\n",
      "R^2 score computed from score function: 0.5441462975864799\n",
      "R^2 score computed from ssr/sst: 0.5441462975864796\n"
     ]
    }
   ],
   "source": [
    "sst = np.sum((y-np.mean(y))**2)\n",
    "print('Total sum of squares:', sst)\n",
    "\n",
    "sse = np.sum((regr.predict(x) - y)**2)\n",
    "print('Residual sum of squares:', sse)\n",
    "\n",
    "print('R^2 score computed from score function:', regr.score(x,y))\n",
    "print('R^2 score computed from ssr/sst:', ssr/sst) #change"
   ]
  },
  {
   "cell_type": "code",
   "execution_count": 33,
   "metadata": {},
   "outputs": [
    {
     "name": "stdout",
     "output_type": "stream",
     "text": [
      "0.5441462975864798\n",
      "4.505281166250568\n",
      "38.48296722989414\n"
     ]
    }
   ],
   "source": [
    "from sklearn import metrics\n",
    "\n",
    "y_pred = regr.predict(x)\n",
    "#print(metrics.explained_variance_score(y, y_pred))\n",
    "print(metrics.mean_absolute_error(y, y_pred))\n",
    "print(metrics.mean_squared_error(y, y_pred))"
   ]
  },
  {
   "cell_type": "code",
   "execution_count": 34,
   "metadata": {},
   "outputs": [
    {
     "data": {
      "image/png": "[encoded data removed]",
      "text/plain": [
       "<Figure size 432x288 with 1 Axes>"
      ]
     },
     "metadata": {
      "needs_background": "light"
     },
     "output_type": "display_data"
    }
   ],
   "source": [
    "plt.scatter(x, y, color = 'red')\n",
    "lx = np.arange(min(x), max(x), (max(x)-min(x))/200).reshape(200, 1)\n",
    "plt.plot(lx, regr.predict(lx), color = 'blue', linewidth = 3)\n",
    "plt.show()"
   ]
  },
  {
   "cell_type": "markdown",
   "metadata": {},
   "source": [
    "# Multivariate Linear Regression"
   ]
  },
  {
   "cell_type": "code",
   "execution_count": 72,
   "metadata": {},
   "outputs": [
    {
     "data": {
      "text/plain": [
       "{'data': array([[ 0.03807591,  0.05068012,  0.06169621, ..., -0.00259226,\n",
       "          0.01990842, -0.01764613],\n",
       "        [-0.00188202, -0.04464164, -0.05147406, ..., -0.03949338,\n",
       "         -0.06832974, -0.09220405],\n",
       "        [ 0.08529891,  0.05068012,  0.04445121, ..., -0.00259226,\n",
       "          0.00286377, -0.02593034],\n",
       "        ...,\n",
       "        [ 0.04170844,  0.05068012, -0.01590626, ..., -0.01107952,\n",
       "         -0.04687948,  0.01549073],\n",
       "        [-0.04547248, -0.04464164,  0.03906215, ...,  0.02655962,\n",
       "          0.04452837, -0.02593034],\n",
       "        [-0.04547248, -0.04464164, -0.0730303 , ..., -0.03949338,\n",
       "         -0.00421986,  0.00306441]]),\n",
       " 'target': array([151.,  75., 141., 206., 135.,  97., 138.,  63., 110., 310., 101.,\n",
       "         69., 179., 185., 118., 171., 166., 144.,  97., 168.,  68.,  49.,\n",
       "         68., 245., 184., 202., 137.,  85., 131., 283., 129.,  59., 341.,\n",
       "         87.,  65., 102., 265., 276., 252.,  90., 100.,  55.,  61.,  92.,\n",
       "        259.,  53., 190., 142.,  75., 142., 155., 225.,  59., 104., 182.,\n",
       "        128.,  52.,  37., 170., 170.,  61., 144.,  52., 128.,  71., 163.,\n",
       "        150.,  97., 160., 178.,  48., 270., 202., 111.,  85.,  42., 170.,\n",
       "        200., 252., 113., 143.,  51.,  52., 210.,  65., 141.,  55., 134.,\n",
       "         42., 111.,  98., 164.,  48.,  96.,  90., 162., 150., 279.,  92.,\n",
       "         83., 128., 102., 302., 198.,  95.,  53., 134., 144., 232.,  81.,\n",
       "        104.,  59., 246., 297., 258., 229., 275., 281., 179., 200., 200.,\n",
       "        173., 180.,  84., 121., 161.,  99., 109., 115., 268., 274., 158.,\n",
       "        107.,  83., 103., 272.,  85., 280., 336., 281., 118., 317., 235.,\n",
       "         60., 174., 259., 178., 128.,  96., 126., 288.,  88., 292.,  71.,\n",
       "        197., 186.,  25.,  84.,  96., 195.,  53., 217., 172., 131., 214.,\n",
       "         59.,  70., 220., 268., 152.,  47.,  74., 295., 101., 151., 127.,\n",
       "        237., 225.,  81., 151., 107.,  64., 138., 185., 265., 101., 137.,\n",
       "        143., 141.,  79., 292., 178.,  91., 116.,  86., 122.,  72., 129.,\n",
       "        142.,  90., 158.,  39., 196., 222., 277.,  99., 196., 202., 155.,\n",
       "         77., 191.,  70.,  73.,  49.,  65., 263., 248., 296., 214., 185.,\n",
       "         78.,  93., 252., 150.,  77., 208.,  77., 108., 160.,  53., 220.,\n",
       "        154., 259.,  90., 246., 124.,  67.,  72., 257., 262., 275., 177.,\n",
       "         71.,  47., 187., 125.,  78.,  51., 258., 215., 303., 243.,  91.,\n",
       "        150., 310., 153., 346.,  63.,  89.,  50.,  39., 103., 308., 116.,\n",
       "        145.,  74.,  45., 115., 264.,  87., 202., 127., 182., 241.,  66.,\n",
       "         94., 283.,  64., 102., 200., 265.,  94., 230., 181., 156., 233.,\n",
       "         60., 219.,  80.,  68., 332., 248.,  84., 200.,  55.,  85.,  89.,\n",
       "         31., 129.,  83., 275.,  65., 198., 236., 253., 124.,  44., 172.,\n",
       "        114., 142., 109., 180., 144., 163., 147.,  97., 220., 190., 109.,\n",
       "        191., 122., 230., 242., 248., 249., 192., 131., 237.,  78., 135.,\n",
       "        244., 199., 270., 164.,  72.,  96., 306.,  91., 214.,  95., 216.,\n",
       "        263., 178., 113., 200., 139., 139.,  88., 148.,  88., 243.,  71.,\n",
       "         77., 109., 272.,  60.,  54., 221.,  90., 311., 281., 182., 321.,\n",
       "         58., 262., 206., 233., 242., 123., 167.,  63., 197.,  71., 168.,\n",
       "        140., 217., 121., 235., 245.,  40.,  52., 104., 132.,  88.,  69.,\n",
       "        219.,  72., 201., 110.,  51., 277.,  63., 118.,  69., 273., 258.,\n",
       "         43., 198., 242., 232., 175.,  93., 168., 275., 293., 281.,  72.,\n",
       "        140., 189., 181., 209., 136., 261., 113., 131., 174., 257.,  55.,\n",
       "         84.,  42., 146., 212., 233.,  91., 111., 152., 120.,  67., 310.,\n",
       "         94., 183.,  66., 173.,  72.,  49.,  64.,  48., 178., 104., 132.,\n",
       "        220.,  57.]),\n",
       " 'DESCR': '.. _diabetes_dataset:\\n\\nDiabetes dataset\\n----------------\\n\\nTen baseline variables, age, sex, body mass index, average blood\\npressure, and six blood serum measurements were obtained for each of n =\\n442 diabetes patients, as well as the response of interest, a\\nquantitative measure of disease progression one year after baseline.\\n\\n**Data Set Characteristics:**\\n\\n  :Number of Instances: 442\\n\\n  :Number of Attributes: First 10 columns are numeric predictive values\\n\\n  :Target: Column 11 is a quantitative measure of disease progression one year after baseline\\n\\n  :Attribute Information:\\n      - Age\\n      - Sex\\n      - Body mass index\\n      - Average blood pressure\\n      - S1\\n      - S2\\n      - S3\\n      - S4\\n      - S5\\n      - S6\\n\\nNote: Each of these 10 feature variables have been mean centered and scaled by the standard deviation times `n_samples` (i.e. the sum of squares of each column totals 1).\\n\\nSource URL:\\nhttps://www4.stat.ncsu.edu/~boos/var.select/diabetes.html\\n\\nFor more information see:\\nBradley Efron, Trevor Hastie, Iain Johnstone and Robert Tibshirani (2004) \"Least Angle Regression,\" Annals of Statistics (with discussion), 407-499.\\n(https://web.stanford.edu/~hastie/Papers/LARS/LeastAngle_2002.pdf)',\n",
       " 'feature_names': ['age',\n",
       "  'sex',\n",
       "  'bmi',\n",
       "  'bp',\n",
       "  's1',\n",
       "  's2',\n",
       "  's3',\n",
       "  's4',\n",
       "  's5',\n",
       "  's6'],\n",
       " 'data_filename': 'C:\\\\Users\\\\chenz1\\\\AppData\\\\Local\\\\Continuum\\\\anaconda3\\\\lib\\\\site-packages\\\\sklearn\\\\datasets\\\\data\\\\diabetes_data.csv.gz',\n",
       " 'target_filename': 'C:\\\\Users\\\\chenz1\\\\AppData\\\\Local\\\\Continuum\\\\anaconda3\\\\lib\\\\site-packages\\\\sklearn\\\\datasets\\\\data\\\\diabetes_target.csv.gz'}"
      ]
     },
     "execution_count": 72,
     "metadata": {},
     "output_type": "execute_result"
    }
   ],
   "source": [
    "import numpy as np\n",
    "from sklearn import linear_model\n",
    "from mpl_toolkits.mplot3d import Axes3D\n",
    "import matplotlib.pyplot as plt\n",
    "\n",
    "diabetes = datasets.load_diabetes()\n",
    "type(diabetes)\n",
    "diabetes"
   ]
  },
  {
   "cell_type": "code",
   "execution_count": 70,
   "metadata": {},
   "outputs": [
    {
     "name": "stdout",
     "output_type": "stream",
     "text": [
      "Coefficients: [675.06977443 614.95050478]\n",
      "Intercept: 152.1334841628967\n"
     ]
    },
    {
     "data": {
      "image/png": "[encoded data removed]",
      "text/plain": [
       "<Figure size 432x288 with 1 Axes>"
      ]
     },
     "metadata": {
      "needs_background": "light"
     },
     "output_type": "display_data"
    }
   ],
   "source": [
    "x = diabetes.data[:,[2,8]]\n",
    "y = diabetes.target\n",
    "regr = linear_model.LinearRegression()\n",
    "regr.fit(x, y)\n",
    "print('Coefficients:', regr.coef_)\n",
    "print('Intercept:', regr.intercept_)\n",
    "\n",
    "steps = 40\n",
    "lx0 = np.arange(min(x[:,0]),max(x[:,0]),(max(x[:,0]) - min(x[:,0]))/steps).reshape(steps,1)\n",
    "lx1 = np.arange(min(x[:,1]),max(x[:,1]),(max(x[:,1]) - min(x[:,1]))/steps).reshape(steps,1)\n",
    "xx0,xx1 = np.meshgrid(lx0, lx1)\n",
    "xx = np.zeros(shape = (steps,steps,2))\n",
    "xx[:,:,0] = xx0\n",
    "xx[:,:,1] = xx1\n",
    "\n",
    "x_stack = xx.reshape(steps**2,2)\n",
    "y_stack = regr.predict(x_stack)\n",
    "yy = y_stack.reshape(steps,steps)\n",
    "\n",
    "fig = plt.figure()\n",
    "ax = fig.gca(projection = '3d')\n",
    "ax.scatter(x[:,0],x[:,1],y,color = 'red')\n",
    "ax.plot_surface(xx0,xx1,yy, rstride = 1, cstride = 1)\n",
    "plt.show()"
   ]
  },
  {
   "cell_type": "code",
   "execution_count": null,
   "metadata": {},
   "outputs": [],
   "source": []
  }
 ],
 "metadata": {
  "anaconda-cloud": {},
  "kernelspec": {
   "display_name": "Python 3",
   "language": "python",
   "name": "python3"
  },
  "language_info": {
   "codemirror_mode": {
    "name": "ipython",
    "version": 3
   },
   "file_extension": ".py",
   "mimetype": "text/x-python",
   "name": "python",
   "nbconvert_exporter": "python",
   "pygments_lexer": "ipython3",
   "version": "3.6.5"
  }
 },
 "nbformat": 4,
 "nbformat_minor": 1
}
